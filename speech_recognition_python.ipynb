{
 "cells": [
  {
   "cell_type": "markdown",
   "id": "2b29f5a2",
   "metadata": {},
   "source": [
    "# Speech Recognition with Python Libraries - vosk, SpeechRecognition and Pocketsphinx"
   ]
  },
  {
   "cell_type": "markdown",
   "id": "f1c2897e",
   "metadata": {},
   "source": [
    "<div style=\"border: 5px ridge; padding:5%\"> \n",
    "<h1>Table of Contents</h1>\n",
    "<hr style=\"border:2px solid black\" />\n",
    "\n",
    "<h3><a href=\"#online\">1. Online Speech Recognition with SpeechRecognition</a></h3>\n",
    "<h3><a href=\"#vosk\">2. Offline Speech Recognition with Vosk</a></h3>\n",
    "<h3><a href=\"#pocketsphinx\">3. Offline Speech Recognition with SpeechRecognition and Pocketsphinx</a></h3>\n",
    "<h3><a href=\"#results\">Results</a></h3>\n",
    "</div>"
   ]
  },
  {
   "cell_type": "markdown",
   "id": "9f958193",
   "metadata": {},
   "source": [
    "<hr style=\"border:2px solid black\" />\n",
    "<h1><a id=\"online\">Online Speech Recognition with SpeechRecognition</a></h1>"
   ]
  },
  {
   "cell_type": "markdown",
   "id": "7a5a334f",
   "metadata": {},
   "source": [
    "## Import Libraries"
   ]
  },
  {
   "cell_type": "code",
   "execution_count": 1,
   "id": "abf072ce",
   "metadata": {},
   "outputs": [],
   "source": [
    "import os\n",
    "import sys\n",
    "import time\n",
    "import speech_recognition as sr\n",
    "# install with `pip install SpeechRecognition`"
   ]
  },
  {
   "cell_type": "markdown",
   "id": "9067339c",
   "metadata": {},
   "source": [
    "## Specify the file name to recognize and language"
   ]
  },
  {
   "cell_type": "code",
   "execution_count": 2,
   "id": "a6fa48a6",
   "metadata": {},
   "outputs": [],
   "source": [
    "# name of the audio file to recognize (wav preferably)\n",
    "audio_filename = \"audio/test.wav\"\n",
    "# name of the text file to write recognized text\n",
    "text_filename = \"audio/test.txt\"\n",
    "# language of speech\n",
    "language = 'en-US'"
   ]
  },
  {
   "cell_type": "markdown",
   "id": "2c5b3145",
   "metadata": {},
   "source": [
    "## Reading a file"
   ]
  },
  {
   "cell_type": "code",
   "execution_count": 3,
   "id": "5f067f55",
   "metadata": {},
   "outputs": [
    {
     "name": "stdout",
     "output_type": "stream",
     "text": [
      "Reading your file 'audio/test.wav'...\n",
      "'audio/test.wav' file was successfully read and cleaned from noise\n"
     ]
    }
   ],
   "source": [
    "if not os.path.exists(audio_filename):\n",
    "    print(f\"File '{audio_filename}' doesn't exist\")\n",
    "    sys.exit()\n",
    "\n",
    "print(f\"Reading your file '{audio_filename}'...\")\n",
    "audio_file = sr.AudioFile(audio_filename)\n",
    "r = sr.Recognizer()\n",
    "\n",
    "with audio_file as af:\n",
    "    r.adjust_for_ambient_noise(af)  # clearing sound from noise\n",
    "    audio = r.record(af)\n",
    "\n",
    "print(f\"'{audio_filename}' file was successfully read and cleaned from noise\")"
   ]
  },
  {
   "cell_type": "markdown",
   "id": "2b1a8def",
   "metadata": {},
   "source": [
    "## Recognize"
   ]
  },
  {
   "cell_type": "code",
   "execution_count": 4,
   "id": "b668ebac",
   "metadata": {},
   "outputs": [
    {
     "name": "stdout",
     "output_type": "stream",
     "text": [
      "Start converting to text. It may take some time...\n"
     ]
    }
   ],
   "source": [
    "print('Start converting to text. It may take some time...')\n",
    "start_time = time.time()"
   ]
  },
  {
   "cell_type": "code",
   "execution_count": 5,
   "id": "0c41a2c9",
   "metadata": {},
   "outputs": [],
   "source": [
    "# recognize speech using Google API\n",
    "try:\n",
    "    text = r.recognize_google(audio, language=language)\n",
    "except sr.UnknownValueError:\n",
    "    print(\"Google could not understand audio\")\n",
    "    sys.exit()\n",
    "except sr.RequestError as e:\n",
    "    print(\"Google error; {0}\".format(e))\n",
    "    sys.exit()"
   ]
  },
  {
   "cell_type": "code",
   "execution_count": 6,
   "id": "20a7bc46",
   "metadata": {},
   "outputs": [
    {
     "name": "stdout",
     "output_type": "stream",
     "text": [
      "Done! Elapsed time = 00:00:01\n"
     ]
    }
   ],
   "source": [
    "time_elapsed = time.strftime(\n",
    "    '%H:%M:%S', time.gmtime(time.time() - start_time))\n",
    "print(f'Done! Elapsed time = {time_elapsed}')"
   ]
  },
  {
   "cell_type": "code",
   "execution_count": 7,
   "id": "b3a1f5b9",
   "metadata": {},
   "outputs": [
    {
     "name": "stdout",
     "output_type": "stream",
     "text": [
      "\tGoogle thinks you said:\n",
      "\n",
      "best bossk speech recognition Library\n"
     ]
    }
   ],
   "source": [
    "print(\"\\tGoogle thinks you said:\\n\")\n",
    "print(text)"
   ]
  },
  {
   "cell_type": "code",
   "execution_count": 8,
   "id": "b08226e6",
   "metadata": {},
   "outputs": [
    {
     "name": "stdout",
     "output_type": "stream",
     "text": [
      "Saving text to 'audio/test.txt'...\n",
      "Text successfully saved\n"
     ]
    }
   ],
   "source": [
    "print(f\"Saving text to '{text_filename}'...\")\n",
    "with open(text_filename, \"w\") as text_file:\n",
    "    text_file.write(text)\n",
    "print(f\"Text successfully saved\")"
   ]
  },
  {
   "cell_type": "code",
   "execution_count": null,
   "id": "e74cfe78",
   "metadata": {},
   "outputs": [],
   "source": []
  },
  {
   "cell_type": "markdown",
   "id": "ee71038b",
   "metadata": {},
   "source": [
    "<hr style=\"border:2px solid black\" />\n",
    "<h1><a id=\"vosk\">Offline Speech Recognition with Vosk</a></h1>"
   ]
  },
  {
   "cell_type": "markdown",
   "id": "12fec4f5",
   "metadata": {},
   "source": [
    "## Import Libraries"
   ]
  },
  {
   "cell_type": "code",
   "execution_count": 9,
   "id": "f476d4b9",
   "metadata": {},
   "outputs": [],
   "source": [
    "import os\n",
    "import sys\n",
    "import time\n",
    "import wave\n",
    "import json\n",
    "from vosk import Model, KaldiRecognizer, SetLogLevel\n",
    "# !pip install vosk\n",
    "\n",
    "SetLogLevel(0)"
   ]
  },
  {
   "cell_type": "markdown",
   "id": "a147dde0",
   "metadata": {},
   "source": [
    "## Specify the file name to recognize and the path to the vosk model"
   ]
  },
  {
   "cell_type": "code",
   "execution_count": 10,
   "id": "62d0ba12",
   "metadata": {},
   "outputs": [],
   "source": [
    "# name of the audio file to recognize (wav preferably)\n",
    "audio_filename = \"audio/test.wav\"\n",
    "# path to vosk model downloaded from\n",
    "# https://alphacephei.com/vosk/models\n",
    "model_path = \"models/vosk-model-en-us-0.21\"\n",
    "\n",
    "# name of the text file to write recognized text\n",
    "text_filename = \"audio/test.txt\""
   ]
  },
  {
   "cell_type": "markdown",
   "id": "5a1aaa9e",
   "metadata": {},
   "source": [
    "## Reading a file and a model"
   ]
  },
  {
   "cell_type": "code",
   "execution_count": 11,
   "id": "3df7f882",
   "metadata": {},
   "outputs": [
    {
     "name": "stdout",
     "output_type": "stream",
     "text": [
      "Reading your file 'audio/test.wav'...\n",
      "'audio/test.wav' file was successfully read\n"
     ]
    }
   ],
   "source": [
    "if not os.path.exists(audio_filename):\n",
    "    print(f\"File '{audio_filename}' doesn't exist\")\n",
    "    sys.exit()\n",
    "\n",
    "print(f\"Reading your file '{audio_filename}'...\")\n",
    "wf = wave.open(audio_filename, \"rb\")\n",
    "print(f\"'{audio_filename}' file was successfully read\")"
   ]
  },
  {
   "cell_type": "code",
   "execution_count": 12,
   "id": "8b39c7d3",
   "metadata": {},
   "outputs": [
    {
     "name": "stdout",
     "output_type": "stream",
     "text": [
      "Reading your vosk model 'models/vosk-model-en-us-0.21'...\n",
      "'models/vosk-model-en-us-0.21' model was successfully read\n"
     ]
    }
   ],
   "source": [
    "if not os.path.exists(model_path):\n",
    "    print(f\"Please download the model from https://alphacephei.com/vosk/models and unpack as {model_path}\")\n",
    "    sys.exit()\n",
    "\n",
    "print(f\"Reading your vosk model '{model_path}'...\")\n",
    "model = Model(model_path)\n",
    "rec = KaldiRecognizer(model, wf.getframerate())\n",
    "rec.SetWords(True)\n",
    "print(f\"'{model_path}' model was successfully read\")"
   ]
  },
  {
   "cell_type": "markdown",
   "id": "365f2b51",
   "metadata": {},
   "source": [
    "## Recognize"
   ]
  },
  {
   "cell_type": "code",
   "execution_count": 13,
   "id": "66d50644",
   "metadata": {},
   "outputs": [
    {
     "name": "stdout",
     "output_type": "stream",
     "text": [
      "Start converting to text. It may take some time...\n"
     ]
    }
   ],
   "source": [
    "print('Start converting to text. It may take some time...')\n",
    "start_time = time.time()"
   ]
  },
  {
   "cell_type": "code",
   "execution_count": 14,
   "id": "c318c794",
   "metadata": {},
   "outputs": [],
   "source": [
    "results = []\n",
    "\n",
    "# recognize speech using vosk model\n",
    "while True:\n",
    "    data = wf.readframes(4000)\n",
    "    if len(data) == 0:\n",
    "        break\n",
    "    if rec.AcceptWaveform(data):\n",
    "        part_result = json.loads(rec.Result())\n",
    "        results.append(part_result)\n",
    "\n",
    "part_result = json.loads(rec.FinalResult())\n",
    "results.append(part_result)"
   ]
  },
  {
   "cell_type": "markdown",
   "id": "53c0b9b4",
   "metadata": {},
   "source": [
    "`result` - list of json dictionaries, each of them has the following structure:\n",
    "\n",
    "```\n",
    "{'result': [{'conf': 0.849133, # confidence\n",
    "             'end': 4.5, # end time\n",
    "             'start': 4.05, # start time\n",
    "             'word': 'test'}], # recognized word\n",
    " 'text': 'test'}\n",
    " ```"
   ]
  },
  {
   "cell_type": "code",
   "execution_count": 15,
   "id": "08937b0f",
   "metadata": {},
   "outputs": [
    {
     "data": {
      "text/plain": [
       "[{'result': [{'conf': 1.0, 'end': 2.55, 'start': 1.98, 'word': 'deus'},\n",
       "   {'conf': 1.0, 'end': 3.33, 'start': 2.64, 'word': 'vos'},\n",
       "   {'conf': 1.0, 'end': 4.44, 'start': 3.75, 'word': 'speech'},\n",
       "   {'conf': 1.0, 'end': 5.25, 'start': 4.44, 'word': 'recognition'},\n",
       "   {'conf': 1.0, 'end': 6.03, 'start': 5.25, 'word': 'library'}],\n",
       "  'text': 'deus vos speech recognition library'}]"
      ]
     },
     "execution_count": 15,
     "metadata": {},
     "output_type": "execute_result"
    }
   ],
   "source": [
    "results"
   ]
  },
  {
   "cell_type": "code",
   "execution_count": 16,
   "id": "f10c2ec1",
   "metadata": {},
   "outputs": [],
   "source": [
    "# forming a final string from the words\n",
    "text = ''\n",
    "for r in results:\n",
    "    text += r['text'] + ' '"
   ]
  },
  {
   "cell_type": "code",
   "execution_count": 17,
   "id": "6389570a",
   "metadata": {},
   "outputs": [
    {
     "name": "stdout",
     "output_type": "stream",
     "text": [
      "Done! Elapsed time = 00:00:01\n"
     ]
    }
   ],
   "source": [
    "time_elapsed = time.strftime(\n",
    "    '%H:%M:%S', time.gmtime(time.time() - start_time))\n",
    "print(f'Done! Elapsed time = {time_elapsed}')"
   ]
  },
  {
   "cell_type": "code",
   "execution_count": 18,
   "id": "9f3d8e43",
   "metadata": {},
   "outputs": [
    {
     "name": "stdout",
     "output_type": "stream",
     "text": [
      "\tVosk thinks you said:\n",
      "\n",
      "deus vos speech recognition library \n"
     ]
    }
   ],
   "source": [
    "print(\"\\tVosk thinks you said:\\n\")\n",
    "print(text)"
   ]
  },
  {
   "cell_type": "code",
   "execution_count": 19,
   "id": "2509de05",
   "metadata": {},
   "outputs": [
    {
     "name": "stdout",
     "output_type": "stream",
     "text": [
      "Saving text to 'audio/test.txt'...\n",
      "Text successfully saved\n"
     ]
    }
   ],
   "source": [
    "print(f\"Saving text to '{text_filename}'...\")\n",
    "with open(text_filename, \"w\") as text_file:\n",
    "    text_file.write(text)\n",
    "print(f\"Text successfully saved\")"
   ]
  },
  {
   "cell_type": "code",
   "execution_count": null,
   "id": "5047be6a",
   "metadata": {},
   "outputs": [],
   "source": []
  },
  {
   "cell_type": "markdown",
   "id": "11d07ab2",
   "metadata": {},
   "source": [
    "<hr style=\"border:2px solid black\" />\n",
    "<h1><a id=\"pocketsphinx\">Offline Speech Recognition with SpeechRecognition and Pocketsphinx</a></h1>"
   ]
  },
  {
   "cell_type": "markdown",
   "id": "6e639f5b",
   "metadata": {},
   "source": [
    "## Import Libraries"
   ]
  },
  {
   "cell_type": "code",
   "execution_count": 20,
   "id": "9acb6b44",
   "metadata": {},
   "outputs": [],
   "source": [
    "import os\n",
    "import sys\n",
    "import time\n",
    "import speech_recognition as sr\n",
    "# install with `pip install SpeechRecognition`"
   ]
  },
  {
   "cell_type": "markdown",
   "id": "cc0838df",
   "metadata": {},
   "source": [
    "## Specify the file name to recognize and language"
   ]
  },
  {
   "cell_type": "code",
   "execution_count": 21,
   "id": "f11ff84e",
   "metadata": {},
   "outputs": [],
   "source": [
    "# name of the audio file to recognize (wav preferably)\n",
    "audio_filename = \"audio/test.wav\"\n",
    "# name of the text file to write recognized text\n",
    "text_filename = \"audio/test.txt\"\n",
    "# language of speech\n",
    "language = 'en-US'"
   ]
  },
  {
   "cell_type": "markdown",
   "id": "32966deb",
   "metadata": {},
   "source": [
    "## Reading a file"
   ]
  },
  {
   "cell_type": "code",
   "execution_count": 22,
   "id": "8a4ec1a2",
   "metadata": {},
   "outputs": [
    {
     "name": "stdout",
     "output_type": "stream",
     "text": [
      "Reading your file 'audio/test.wav'...\n",
      "'audio/test.wav' file was successfully read and cleaned from noise\n"
     ]
    }
   ],
   "source": [
    "if not os.path.exists(audio_filename):\n",
    "    print(f\"File '{audio_filename}' doesn't exist\")\n",
    "    sys.exit()\n",
    "    \n",
    "print(f\"Reading your file '{audio_filename}'...\")\n",
    "audio_file = sr.AudioFile(audio_filename)\n",
    "r = sr.Recognizer()\n",
    "\n",
    "with audio_file as af:\n",
    "    r.adjust_for_ambient_noise(af)  # clearing sound from noise\n",
    "    audio = r.record(af)\n",
    "\n",
    "print(f\"'{audio_filename}' file was successfully read and cleaned from noise\")"
   ]
  },
  {
   "cell_type": "markdown",
   "id": "63880224",
   "metadata": {},
   "source": [
    "## Recognize"
   ]
  },
  {
   "cell_type": "code",
   "execution_count": 23,
   "id": "aec65c1b",
   "metadata": {},
   "outputs": [
    {
     "name": "stdout",
     "output_type": "stream",
     "text": [
      "Start converting to text. It may take some time...\n"
     ]
    }
   ],
   "source": [
    "print('Start converting to text. It may take some time...')\n",
    "start_time = time.time()"
   ]
  },
  {
   "cell_type": "code",
   "execution_count": 24,
   "id": "57ab5a3e",
   "metadata": {},
   "outputs": [],
   "source": [
    "# recognize speech using Sphinx\n",
    "try:\n",
    "    text = r.recognize_sphinx(audio, language=language)\n",
    "except sr.UnknownValueError:\n",
    "    print(\"Sphinx could not understand audio\")\n",
    "    sys.exit()\n",
    "except sr.RequestError as e:\n",
    "    print(\"Sphinx error; {0}\".format(e))\n",
    "    sys.exit()"
   ]
  },
  {
   "cell_type": "code",
   "execution_count": 25,
   "id": "59246684",
   "metadata": {},
   "outputs": [
    {
     "name": "stdout",
     "output_type": "stream",
     "text": [
      "Done! Elapsed time = 00:00:01\n"
     ]
    }
   ],
   "source": [
    "time_elapsed = time.strftime(\n",
    "    '%H:%M:%S', time.gmtime(time.time() - start_time))\n",
    "print(f'Done! Elapsed time = {time_elapsed}')"
   ]
  },
  {
   "cell_type": "code",
   "execution_count": 26,
   "id": "06f7cbc9",
   "metadata": {},
   "outputs": [
    {
     "name": "stdout",
     "output_type": "stream",
     "text": [
      "\tSphinx thinks you said:\n",
      "\n",
      "that's bosco speech from the ignition library\n"
     ]
    }
   ],
   "source": [
    "print(\"\\tSphinx thinks you said:\\n\")\n",
    "print(text)"
   ]
  },
  {
   "cell_type": "code",
   "execution_count": 27,
   "id": "6735a99d",
   "metadata": {},
   "outputs": [
    {
     "name": "stdout",
     "output_type": "stream",
     "text": [
      "Saving text to 'audio/test.txt'...\n",
      "Text successfully saved\n"
     ]
    }
   ],
   "source": [
    "print(f\"Saving text to '{text_filename}'...\")\n",
    "with open(text_filename, \"w\") as text_file:\n",
    "    text_file.write(text)\n",
    "print(f\"Text successfully saved\")"
   ]
  },
  {
   "cell_type": "markdown",
   "id": "d0f64773",
   "metadata": {},
   "source": [
    "<hr style=\"border:2px solid black\" />\n",
    "<h1><a id=\"results\">Results</a></h1>"
   ]
  },
  {
   "cell_type": "markdown",
   "id": "2f06e5f5",
   "metadata": {},
   "source": [
    "Some text TODO\n",
    "\n",
    "\n",
    "| Method | Recognised Text |\n",
    "| ----------- | ----------- |\n",
    "| Initial Text | test vosk speech recognition library |\n",
    "| Google API with `recognize_google()` | best bossk speech recognition Library |\n",
    "| vosk | deus vos speech recognition library  |\n",
    "| SpeechRecognition with `recognize_sphinx()` | that's bosco speech from the ignition library |"
   ]
  },
  {
   "cell_type": "code",
   "execution_count": null,
   "id": "2ae509ed",
   "metadata": {},
   "outputs": [],
   "source": []
  }
 ],
 "metadata": {
  "kernelspec": {
   "display_name": "Python 3",
   "language": "python",
   "name": "python3"
  },
  "language_info": {
   "codemirror_mode": {
    "name": "ipython",
    "version": 3
   },
   "file_extension": ".py",
   "mimetype": "text/x-python",
   "name": "python",
   "nbconvert_exporter": "python",
   "pygments_lexer": "ipython3",
   "version": "3.8.8"
  }
 },
 "nbformat": 4,
 "nbformat_minor": 5
}
