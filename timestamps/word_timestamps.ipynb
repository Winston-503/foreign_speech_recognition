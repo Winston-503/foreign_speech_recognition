{
 "cells": [
  {
   "cell_type": "markdown",
   "source": [
    "# Speech recognition with timestamps with vosk"
   ],
   "metadata": {}
  },
  {
   "cell_type": "markdown",
   "source": [
    "## Import Libraries"
   ],
   "metadata": {}
  },
  {
   "cell_type": "code",
   "execution_count": 22,
   "source": [
    "import os\r\n",
    "import sys\r\n",
    "import time\r\n",
    "import wave\r\n",
    "import json\r\n",
    "\r\n",
    "from vosk import Model, KaldiRecognizer, SetLogLevel\r\n",
    "# !pip install vosk\r\n",
    "\r\n",
    "import Word\r\n",
    "\r\n",
    "SetLogLevel(0)"
   ],
   "outputs": [],
   "metadata": {}
  },
  {
   "cell_type": "markdown",
   "source": [
    "## Loading a vosk model"
   ],
   "metadata": {}
  },
  {
   "cell_type": "code",
   "execution_count": 23,
   "source": [
    "# path to vosk model downloaded from\r\n",
    "# https://alphacephei.com/vosk/models\r\n",
    "model_path = \"../models/vosk-model-en-us-0.21\"\r\n",
    "\r\n",
    "if not os.path.exists(model_path):\r\n",
    "    print(f\"Please download the model from https://alphacephei.com/vosk/models and unpack as {model_path}\")\r\n",
    "    sys.exit()\r\n",
    "\r\n",
    "print(f\"Reading your vosk model '{model_path}'...\")\r\n",
    "model = Model(model_path)\r\n",
    "print(f\"'{model_path}' model was successfully read\")"
   ],
   "outputs": [
    {
     "output_type": "stream",
     "name": "stdout",
     "text": [
      "Reading your vosk model '../models/vosk-model-en-us-0.21'...\n",
      "'../models/vosk-model-en-us-0.21' model was successfully read\n"
     ]
    }
   ],
   "metadata": {}
  },
  {
   "cell_type": "markdown",
   "source": [
    "## Specify the file name to recognize"
   ],
   "metadata": {}
  },
  {
   "cell_type": "code",
   "execution_count": 24,
   "source": [
    "# name of the audio file to recognize (wav preferably)\r\n",
    "audio_filename = \"../audio/speech_recognition_systems.wav\"\r\n",
    "# name of the text file to write recognized text\r\n",
    "text_filename = \"../audio/speech_recognition_systems_vosk_with_timestamps.txt\""
   ],
   "outputs": [],
   "metadata": {}
  },
  {
   "cell_type": "markdown",
   "source": [
    "## Reading a file"
   ],
   "metadata": {}
  },
  {
   "cell_type": "code",
   "execution_count": 25,
   "source": [
    "if not os.path.exists(audio_filename):\r\n",
    "    print(f\"File '{audio_filename}' doesn't exist\")\r\n",
    "    sys.exit()\r\n",
    "\r\n",
    "print(f\"Reading your file '{audio_filename}'...\")\r\n",
    "wf = wave.open(audio_filename, \"rb\")\r\n",
    "print(f\"'{audio_filename}' file was successfully read\")"
   ],
   "outputs": [
    {
     "output_type": "stream",
     "name": "stdout",
     "text": [
      "Reading your file '../audio/speech_recognition_systems.wav'...\n",
      "'../audio/speech_recognition_systems.wav' file was successfully read\n"
     ]
    }
   ],
   "metadata": {}
  },
  {
   "cell_type": "code",
   "execution_count": 26,
   "source": [
    "# check if audio if mono wav\r\n",
    "wf = wave.open(audio_filename, \"rb\")\r\n",
    "if wf.getnchannels() != 1 or wf.getsampwidth() != 2 or wf.getcomptype() != \"NONE\":\r\n",
    "    print(\"Audio file must be WAV format mono PCM.\")\r\n",
    "    sys.exit()"
   ],
   "outputs": [],
   "metadata": {}
  },
  {
   "cell_type": "markdown",
   "source": [
    "## Recognize"
   ],
   "metadata": {}
  },
  {
   "cell_type": "code",
   "execution_count": 27,
   "source": [
    "rec = KaldiRecognizer(model, wf.getframerate())\r\n",
    "rec.SetWords(True)"
   ],
   "outputs": [],
   "metadata": {}
  },
  {
   "cell_type": "code",
   "execution_count": 28,
   "source": [
    "print('Start converting to text. It may take some time...')\r\n",
    "start_time = time.time()"
   ],
   "outputs": [
    {
     "output_type": "stream",
     "name": "stdout",
     "text": [
      "Start converting to text. It may take some time...\n"
     ]
    }
   ],
   "metadata": {}
  },
  {
   "cell_type": "code",
   "execution_count": 29,
   "source": [
    "results = []\r\n",
    "\r\n",
    "# recognize speech using vosk model\r\n",
    "while True:\r\n",
    "    data = wf.readframes(4000)\r\n",
    "    if len(data) == 0:\r\n",
    "        break\r\n",
    "    if rec.AcceptWaveform(data):\r\n",
    "        part_result = json.loads(rec.Result())\r\n",
    "        results.append(part_result)\r\n",
    "\r\n",
    "part_result = json.loads(rec.FinalResult())\r\n",
    "results.append(part_result)"
   ],
   "outputs": [],
   "metadata": {}
  },
  {
   "cell_type": "markdown",
   "source": [
    "`result` - list of json dictionaries, each of them has the following structure:\n",
    "\n",
    "```\n",
    "{'result': [{'conf': 0.849133, # confidence\n",
    "             'end': 4.5, # end time\n",
    "             'start': 4.05, # start time\n",
    "             'word': 'test'}], # recognized word\n",
    " 'text': 'test'}\n",
    " ```"
   ],
   "metadata": {}
  },
  {
   "cell_type": "code",
   "execution_count": null,
   "source": [],
   "outputs": [],
   "metadata": {}
  },
  {
   "cell_type": "code",
   "execution_count": null,
   "source": [],
   "outputs": [],
   "metadata": {}
  },
  {
   "cell_type": "code",
   "execution_count": 52,
   "source": [
    "# convert list of json dictionaries to list of 'Word' objects\r\n",
    "\r\n",
    "timestamps = []\r\n",
    "for sentence in results:\r\n",
    "    for obj in sentence['result']:\r\n",
    "        w = Word(obj) # create custom Word object\r\n",
    "        timestamps.append(w) # and add it to list"
   ],
   "outputs": [],
   "metadata": {}
  },
  {
   "cell_type": "code",
   "execution_count": 53,
   "source": [
    "for w in timestamps:\r\n",
    "    print(w.to_string())"
   ],
   "outputs": [
    {
     "output_type": "stream",
     "name": "stdout",
     "text": [
      "some                 from 1.47 sec to 1.92 sec, confidence is 100.00%\n",
      "speech               from 1.92 sec to 2.40 sec, confidence is 100.00%\n",
      "recognition          from 2.40 sec to 3.09 sec, confidence is 100.00%\n",
      "systems              from 3.09 sec to 4.02 sec, confidence is 100.00%\n",
      "require              from 4.08 sec to 4.80 sec, confidence is 100.00%\n",
      "training             from 4.92 sec to 5.70 sec, confidence is 100.00%\n",
      "alphago              from 6.03 sec to 6.90 sec, confidence is 100.00%\n",
      "enrollment           from 6.93 sec to 7.95 sec, confidence is 72.03%\n",
      "burn                 from 8.34 sec to 8.70 sec, confidence is 73.90%\n",
      "individual           from 8.70 sec to 9.42 sec, confidence is 100.00%\n",
      "speaker              from 9.42 sec to 10.17 sec, confidence is 100.00%\n",
      "reads                from 10.23 sec to 10.68 sec, confidence is 66.77%\n",
      "text                 from 10.69 sec to 11.34 sec, confidence is 100.00%\n",
      "or                   from 11.37 sec to 11.70 sec, confidence is 98.81%\n",
      "isolated             from 11.73 sec to 12.48 sec, confidence is 100.00%\n",
      "vocabulary           from 12.48 sec to 13.41 sec, confidence is 100.00%\n",
      "into                 from 13.44 sec to 13.77 sec, confidence is 100.00%\n",
      "the                  from 13.77 sec to 13.95 sec, confidence is 100.00%\n",
      "system               from 13.95 sec to 14.55 sec, confidence is 100.00%\n",
      "the                  from 15.15 sec to 15.36 sec, confidence is 100.00%\n",
      "system               from 15.36 sec to 15.90 sec, confidence is 100.00%\n",
      "analyzes             from 15.93 sec to 16.86 sec, confidence is 100.00%\n",
      "the                  from 16.89 sec to 17.10 sec, confidence is 100.00%\n",
      "person               from 17.10 sec to 17.55 sec, confidence is 84.62%\n",
      "specific             from 17.56 sec to 18.24 sec, confidence is 100.00%\n",
      "voice                from 18.24 sec to 18.87 sec, confidence is 100.00%\n",
      "and                  from 19.17 sec to 19.41 sec, confidence is 100.00%\n",
      "use                  from 19.41 sec to 19.89 sec, confidence is 100.00%\n",
      "it                   from 19.89 sec to 20.16 sec, confidence is 100.00%\n",
      "to                   from 20.52 sec to 20.73 sec, confidence is 100.00%\n",
      "fine                 from 20.73 sec to 21.12 sec, confidence is 98.76%\n",
      "tune                 from 21.12 sec to 21.51 sec, confidence is 98.76%\n",
      "the                  from 21.51 sec to 21.66 sec, confidence is 96.61%\n",
      "recognition          from 21.66 sec to 22.53 sec, confidence is 100.00%\n",
      "of                   from 22.56 sec to 22.80 sec, confidence is 100.00%\n",
      "the                  from 22.80 sec to 23.01 sec, confidence is 52.87%\n",
      "person's             from 23.04 sec to 23.58 sec, confidence is 77.22%\n",
      "speech               from 23.58 sec to 24.21 sec, confidence is 100.00%\n",
      "resulting            from 24.24 sec to 25.05 sec, confidence is 100.00%\n",
      "in                   from 25.08 sec to 25.35 sec, confidence is 100.00%\n",
      "increased            from 25.35 sec to 26.07 sec, confidence is 100.00%\n",
      "accuracy             from 26.10 sec to 26.91 sec, confidence is 100.00%\n",
      "systems              from 27.48 sec to 28.35 sec, confidence is 100.00%\n",
      "that                 from 28.35 sec to 28.59 sec, confidence is 100.00%\n",
      "do                   from 28.62 sec to 28.77 sec, confidence is 100.00%\n",
      "not                  from 28.77 sec to 29.31 sec, confidence is 100.00%\n",
      "use                  from 29.31 sec to 29.76 sec, confidence is 100.00%\n",
      "training             from 29.79 sec to 30.45 sec, confidence is 100.00%\n",
      "are                  from 30.48 sec to 30.72 sec, confidence is 76.33%\n",
      "called               from 30.72 sec to 31.08 sec, confidence is 100.00%\n",
      "speaker              from 31.08 sec to 31.65 sec, confidence is 100.00%\n",
      "independent          from 31.65 sec to 32.58 sec, confidence is 100.00%\n",
      "systems              from 32.58 sec to 33.36 sec, confidence is 100.00%\n",
      "systems              from 33.87 sec to 34.77 sec, confidence is 100.00%\n",
      "that                 from 34.83 sec to 35.19 sec, confidence is 100.00%\n",
      "use                  from 35.19 sec to 35.67 sec, confidence is 100.00%\n",
      "training             from 35.70 sec to 36.39 sec, confidence is 100.00%\n",
      "are                  from 36.45 sec to 36.66 sec, confidence is 59.37%\n",
      "called               from 36.66 sec to 37.14 sec, confidence is 100.00%\n",
      "speaker              from 37.17 sec to 37.74 sec, confidence is 100.00%\n",
      "dependent            from 37.74 sec to 38.67 sec, confidence is 100.00%\n"
     ]
    }
   ],
   "metadata": {}
  },
  {
   "cell_type": "code",
   "execution_count": 36,
   "source": [
    "obj[\"conf\"]"
   ],
   "outputs": [
    {
     "output_type": "execute_result",
     "data": {
      "text/plain": [
       "1.0"
      ]
     },
     "metadata": {},
     "execution_count": 36
    }
   ],
   "metadata": {}
  },
  {
   "cell_type": "code",
   "execution_count": 18,
   "source": [
    "results"
   ],
   "outputs": [
    {
     "output_type": "execute_result",
     "data": {
      "text/plain": [
       "[{'result': [{'conf': 1.0, 'end': 1.92, 'start': 1.5, 'word': 'сам'},\n",
       "   {'conf': 0.734768, 'end': 2.52, 'start': 1.92, 'word': 'спеша'},\n",
       "   {'conf': 0.984898, 'end': 2.70002, 'start': 2.528013, 'word': 'как'},\n",
       "   {'conf': 0.664435, 'end': 3.0, 'start': 2.70002, 'word': 'знаешь'},\n",
       "   {'conf': 0.700186, 'end': 3.723733, 'start': 3.0, 'word': 'инцестом'},\n",
       "   {'conf': 0.914712, 'end': 3.931224, 'start': 3.723733, 'word': 'с'},\n",
       "   {'conf': 0.886431, 'end': 4.77, 'start': 4.023877, 'word': 'прокла'},\n",
       "   {'conf': 0.99399, 'end': 5.61, 'start': 4.92, 'word': 'джейн'},\n",
       "   {'conf': 0.51425, 'end': 6.45, 'start': 6.09, 'word': 'алсо'},\n",
       "   {'conf': 1.0, 'end': 6.9, 'start': 6.48, 'word': 'кол'},\n",
       "   {'conf': 0.778538, 'end': 7.17, 'start': 6.99, 'word': 'энн'},\n",
       "   {'conf': 0.935332, 'end': 7.92, 'start': 7.173516, 'word': 'роланд'},\n",
       "   {'conf': 1.0, 'end': 9.0, 'start': 8.34, 'word': 'брэнды'},\n",
       "   {'conf': 0.333007, 'end': 9.39, 'start': 9.0, 'word': 'ввиду'},\n",
       "   {'conf': 0.990838, 'end': 10.14, 'start': 9.42, 'word': 'спека'},\n",
       "   {'conf': 0.894155, 'end': 10.62, 'start': 10.29, 'word': 'уэйд'},\n",
       "   {'conf': 0.970573, 'end': 11.1, 'start': 10.68, 'word': 'так'},\n",
       "   {'conf': 0.968076, 'end': 11.31, 'start': 11.1, 'word': 'ст'},\n",
       "   {'conf': 0.855062, 'end': 11.85, 'start': 11.73, 'word': 'а'},\n",
       "   {'conf': 0.850938, 'end': 11.91, 'start': 11.85, 'word': 'и'},\n",
       "   {'conf': 0.810976, 'end': 12.21, 'start': 11.910305, 'word': 'золы'},\n",
       "   {'conf': 1.0, 'end': 12.480259, 'start': 12.21, 'word': 'этот'},\n",
       "   {'conf': 0.678496, 'end': 13.08, 'start': 12.480259, 'word': 'вокабул'},\n",
       "   {'conf': 0.90786, 'end': 13.38, 'start': 13.086754, 'word': 'уровень'},\n",
       "   {'conf': 0.883788, 'end': 13.923009, 'start': 13.44, 'word': 'интеза'},\n",
       "   {'conf': 0.544089, 'end': 14.52, 'start': 13.923009, 'word': 'сестан'}],\n",
       "  'text': 'сам спеша как знаешь инцестом с прокла джейн алсо кол энн роланд брэнды ввиду спека уэйд так ст а и золы этот вокабул уровень интеза сестан'},\n",
       " {'result': [{'conf': 1.0, 'end': 16.2, 'start': 15.96, 'word': 'анна'},\n",
       "   {'conf': 1.0, 'end': 16.86, 'start': 16.2, 'word': 'лайс'},\n",
       "   {'conf': 0.64082, 'end': 17.58, 'start': 16.89, 'word': 'запросам'},\n",
       "   {'conf': 0.542914, 'end': 18.21, 'start': 17.58, 'word': 'специфик'},\n",
       "   {'conf': 0.649616, 'end': 18.66, 'start': 18.224901, 'word': 'вой'},\n",
       "   {'conf': 0.725891, 'end': 18.84, 'start': 18.661062, 'word': 'с'},\n",
       "   {'conf': 0.956172, 'end': 19.41, 'start': 19.23, 'word': 'энн'},\n",
       "   {'conf': 0.881958, 'end': 20.25, 'start': 19.41, 'word': 'елисавет'},\n",
       "   {'conf': 0.959617, 'end': 20.73, 'start': 20.49, 'word': 'то'},\n",
       "   {'conf': 0.898414, 'end': 21.489413, 'start': 20.73, 'word': 'фанчен'},\n",
       "   {'conf': 0.529393, 'end': 21.93, 'start': 21.489413, 'word': 'тройка'},\n",
       "   {'conf': 0.956991, 'end': 22.5, 'start': 21.938622, 'word': 'гриша'},\n",
       "   {'conf': 0.801786, 'end': 22.77, 'start': 22.62, 'word': 'о'},\n",
       "   {'conf': 0.961535, 'end': 23.22, 'start': 22.77, 'word': 'зато'},\n",
       "   {'conf': 0.961535, 'end': 23.52, 'start': 23.22, 'word': 'арсен'},\n",
       "   {'conf': 0.961619, 'end': 24.21, 'start': 23.52, 'word': 'спич'},\n",
       "   {'conf': 0.506294, 'end': 25.05, 'start': 24.300071, 'word': 'золтан'},\n",
       "   {'conf': 0.743053, 'end': 25.682186, 'start': 25.14, 'word': 'инк'},\n",
       "   {'conf': 0.600558, 'end': 26.07, 'start': 25.682186, 'word': 'уэст'},\n",
       "   {'conf': 0.998965, 'end': 26.82, 'start': 26.1, 'word': 'эквирос'},\n",
       "   {'conf': 0.950288, 'end': 26.94, 'start': 26.82, 'word': 'и'},\n",
       "   {'conf': 0.98259, 'end': 28.26, 'start': 27.51, 'word': 'свистом'},\n",
       "   {'conf': 1.0, 'end': 29.31, 'start': 28.77, 'word': 'нот'},\n",
       "   {'conf': 0.414707, 'end': 29.64, 'start': 29.31, 'word': 'её'},\n",
       "   {'conf': 0.524732, 'end': 30.42, 'start': 29.64, 'word': 'строением'},\n",
       "   {'conf': 0.562992, 'end': 30.69, 'start': 30.51, 'word': 'а'},\n",
       "   {'conf': 0.562992, 'end': 31.08, 'start': 30.69, 'word': 'кол'},\n",
       "   {'conf': 0.984722, 'end': 31.62, 'start': 31.084332, 'word': 'спикер'},\n",
       "   {'conf': 0.976514, 'end': 32.640308, 'start': 31.68, 'word': 'индепенденс'},\n",
       "   {'conf': 0.954632, 'end': 33.33, 'start': 32.640308, 'word': 'системс'}],\n",
       "  'text': 'анна лайс запросам специфик вой с энн елисавет то фанчен тройка гриша о зато арсен спич золтан инк уэст эквирос и свистом нот её строением а кол спикер индепенденс системс'},\n",
       " {'result': [{'conf': 0.717654,\n",
       "    'end': 34.74,\n",
       "    'start': 33.9,\n",
       "    'word': 'системс'},\n",
       "   {'conf': 0.715841, 'end': 35.19, 'start': 34.83, 'word': 'зад'},\n",
       "   {'conf': 0.448544, 'end': 35.55, 'start': 35.19, 'word': 'юо'},\n",
       "   {'conf': 0.333136, 'end': 36.33, 'start': 35.563319, 'word': 'строении'},\n",
       "   {'conf': 0.916593, 'end': 36.63, 'start': 36.48, 'word': 'а'},\n",
       "   {'conf': 0.903748, 'end': 37.17, 'start': 36.63, 'word': 'колб'},\n",
       "   {'conf': 1.0, 'end': 37.854803, 'start': 37.2, 'word': 'спикарт'},\n",
       "   {'conf': 0.847096, 'end': 38.19, 'start': 37.98, 'word': 'энн'},\n",
       "   {'conf': 0.847205, 'end': 38.61, 'start': 38.190004, 'word': 'дент'}],\n",
       "  'text': 'системс зад юо строении а колб спикарт энн дент'},\n",
       " {'result': [{'conf': 0.387447, 'end': 40.5, 'start': 40.47, 'word': 'и'}],\n",
       "  'text': 'и'}]"
      ]
     },
     "metadata": {},
     "execution_count": 18
    }
   ],
   "metadata": {}
  },
  {
   "cell_type": "code",
   "execution_count": 16,
   "source": [
    "# forming a final string from the words\r\n",
    "text = ''\r\n",
    "for r in results:\r\n",
    "    text += r['text'] + ' '"
   ],
   "outputs": [],
   "metadata": {}
  },
  {
   "cell_type": "code",
   "execution_count": 17,
   "source": [
    "time_elapsed = time.strftime(\r\n",
    "    '%H:%M:%S', time.gmtime(time.time() - start_time))\r\n",
    "print(f'Done! Elapsed time = {time_elapsed}')"
   ],
   "outputs": [
    {
     "output_type": "stream",
     "name": "stdout",
     "text": [
      "Done! Elapsed time = 00:00:07\n"
     ]
    }
   ],
   "metadata": {}
  },
  {
   "cell_type": "code",
   "execution_count": 18,
   "source": [
    "print(\"\\tVosk thinks you said:\\n\")\r\n",
    "print(text)"
   ],
   "outputs": [
    {
     "output_type": "stream",
     "name": "stdout",
     "text": [
      "\tVosk thinks you said:\n",
      "\n",
      "some speech recognition systems require training alphago enrollment burn individual speaker reads text or isolated vocabulary into the system the system analyzes the person specific voice and use it to fine tune the recognition of the person's speech resulting in increased accuracy systems that do not use training are called speaker independent systems systems that use training are called speaker dependent \n"
     ]
    }
   ],
   "metadata": {}
  },
  {
   "cell_type": "code",
   "execution_count": 19,
   "source": [
    "print(f\"Saving text to '{text_filename}'...\")\r\n",
    "with open(text_filename, \"w\") as text_file:\r\n",
    "    text_file.write(text)\r\n",
    "print(f\"Text successfully saved\")"
   ],
   "outputs": [
    {
     "output_type": "stream",
     "name": "stdout",
     "text": [
      "Saving text to 'audio/speech_recognition_systems_vosk.txt'...\n",
      "Text successfully saved\n"
     ]
    }
   ],
   "metadata": {}
  },
  {
   "cell_type": "code",
   "execution_count": null,
   "source": [],
   "outputs": [],
   "metadata": {}
  },
  {
   "cell_type": "code",
   "execution_count": null,
   "source": [],
   "outputs": [],
   "metadata": {}
  }
 ],
 "metadata": {
  "kernelspec": {
   "display_name": "Python 3",
   "language": "python",
   "name": "python3"
  },
  "language_info": {
   "codemirror_mode": {
    "name": "ipython",
    "version": 3
   },
   "file_extension": ".py",
   "mimetype": "text/x-python",
   "name": "python",
   "nbconvert_exporter": "python",
   "pygments_lexer": "ipython3",
   "version": "3.8.8"
  }
 },
 "nbformat": 4,
 "nbformat_minor": 5
}