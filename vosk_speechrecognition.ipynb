{
 "cells": [
  {
   "cell_type": "markdown",
   "id": "12fec4f5",
   "metadata": {},
   "source": [
    "## Import Libraries"
   ]
  },
  {
   "cell_type": "code",
   "execution_count": 1,
   "id": "f476d4b9",
   "metadata": {},
   "outputs": [],
   "source": [
    "import os\n",
    "import sys\n",
    "import time\n",
    "import wave\n",
    "import json\n",
    "from vosk import Model, KaldiRecognizer, SetLogLevel\n",
    "# !pip install vosk\n",
    "\n",
    "SetLogLevel(0)"
   ]
  },
  {
   "cell_type": "markdown",
   "id": "a147dde0",
   "metadata": {},
   "source": [
    "# Specify the file name and the path to the model"
   ]
  },
  {
   "cell_type": "code",
   "execution_count": 2,
   "id": "62d0ba12",
   "metadata": {},
   "outputs": [],
   "source": [
    "# name of the audio file to recognize (wav preferably)\n",
    "audio_filename = \"audio/test.wav\"\n",
    "# path to vosk model downloaded from \n",
    "# https://alphacephei.com/vosk/models\n",
    "model_path = \"models/vosk-model-en-us-0.21\"\n",
    "\n",
    "# name of the text file to write recognized text\n",
    "text_filename = \"audio/test.txt\""
   ]
  },
  {
   "cell_type": "markdown",
   "id": "5a1aaa9e",
   "metadata": {},
   "source": [
    "## Reading a file and a model"
   ]
  },
  {
   "cell_type": "code",
   "execution_count": 3,
   "id": "3df7f882",
   "metadata": {},
   "outputs": [
    {
     "name": "stdout",
     "output_type": "stream",
     "text": [
      "Reading your file 'audio/test.wav'...\n",
      "'audio/test.wav' file was successfully read\n"
     ]
    }
   ],
   "source": [
    "if not os.path.exists(audio_filename):\n",
    "    print(f\"File '{audio_filename}' doesn't exist\")\n",
    "    sys.exit()\n",
    "\n",
    "print(f\"Reading your file '{audio_filename}'...\")\n",
    "wf = wave.open(audio_filename, \"rb\")\n",
    "print(f\"'{audio_filename}' file was successfully read\")"
   ]
  },
  {
   "cell_type": "code",
   "execution_count": 4,
   "id": "8b39c7d3",
   "metadata": {},
   "outputs": [
    {
     "name": "stdout",
     "output_type": "stream",
     "text": [
      "Reading your vosk model 'models/vosk-model-en-us-0.21'...\n",
      "'models/vosk-model-en-us-0.21' model was successfully read\n"
     ]
    }
   ],
   "source": [
    "if not os.path.exists(model_path):\n",
    "    print(f\"Please download the model from https://alphacephei.com/vosk/models and unpack as {model_path}\")\n",
    "    sys.exit()\n",
    "\n",
    "print(f\"Reading your vosk model '{model_path}'...\")\n",
    "model = Model(model_path)\n",
    "rec = KaldiRecognizer(model, wf.getframerate())\n",
    "rec.SetWords(True)\n",
    "print(f\"'{model_path}' model was successfully read\")"
   ]
  },
  {
   "cell_type": "markdown",
   "id": "365f2b51",
   "metadata": {},
   "source": [
    "## Recognize"
   ]
  },
  {
   "cell_type": "code",
   "execution_count": 5,
   "id": "66d50644",
   "metadata": {},
   "outputs": [
    {
     "name": "stdout",
     "output_type": "stream",
     "text": [
      "Start converting to text. It may take some time...\n"
     ]
    }
   ],
   "source": [
    "print('Start converting to text. It may take some time...')\n",
    "start_time = time.time()"
   ]
  },
  {
   "cell_type": "code",
   "execution_count": 6,
   "id": "c318c794",
   "metadata": {},
   "outputs": [],
   "source": [
    "results = []\n",
    "\n",
    "# recognize speech using vosk model\n",
    "while True:\n",
    "    data = wf.readframes(4000)\n",
    "    if len(data) == 0:\n",
    "        break\n",
    "    if rec.AcceptWaveform(data):\n",
    "        part_result = json.loads(rec.Result())\n",
    "        results.append(part_result)\n",
    "\n",
    "part_result = json.loads(rec.FinalResult())\n",
    "results.append(part_result)"
   ]
  },
  {
   "cell_type": "markdown",
   "id": "53c0b9b4",
   "metadata": {},
   "source": [
    "`result` - list of json dictionaries, each of them has the following structure:\n",
    "\n",
    "```\n",
    "{'result': [{'conf': 0.849133, # confidence\n",
    "             'end': 4.5, # end time\n",
    "             'start': 4.05, # start time\n",
    "             'word': 'test'}], # recognized word\n",
    " 'text': 'test'}\n",
    " ```"
   ]
  },
  {
   "cell_type": "code",
   "execution_count": 7,
   "id": "08937b0f",
   "metadata": {},
   "outputs": [
    {
     "data": {
      "text/plain": [
       "[{'result': [{'conf': 1.0, 'end': 2.55, 'start': 1.98, 'word': 'deus'},\n",
       "   {'conf': 1.0, 'end': 3.33, 'start': 2.64, 'word': 'vos'},\n",
       "   {'conf': 1.0, 'end': 4.44, 'start': 3.75, 'word': 'speech'},\n",
       "   {'conf': 1.0, 'end': 5.25, 'start': 4.44, 'word': 'recognition'},\n",
       "   {'conf': 1.0, 'end': 6.03, 'start': 5.25, 'word': 'library'}],\n",
       "  'text': 'deus vos speech recognition library'}]"
      ]
     },
     "execution_count": 7,
     "metadata": {},
     "output_type": "execute_result"
    }
   ],
   "source": [
    "results"
   ]
  },
  {
   "cell_type": "code",
   "execution_count": 8,
   "id": "f10c2ec1",
   "metadata": {},
   "outputs": [],
   "source": [
    "# forming a final string from the words\n",
    "text = ''\n",
    "for r in results:\n",
    "    text += r['text'] + ' '"
   ]
  },
  {
   "cell_type": "code",
   "execution_count": 9,
   "id": "6389570a",
   "metadata": {},
   "outputs": [
    {
     "name": "stdout",
     "output_type": "stream",
     "text": [
      "Done! Elapsed time = 00:00:01\n",
      "\n"
     ]
    }
   ],
   "source": [
    "time_elapsed = time.strftime(\n",
    "    '%H:%M:%S', time.gmtime(time.time() - start_time))\n",
    "print(f'Done! Elapsed time = {time_elapsed}\\n')"
   ]
  },
  {
   "cell_type": "code",
   "execution_count": 10,
   "id": "9f3d8e43",
   "metadata": {},
   "outputs": [
    {
     "name": "stdout",
     "output_type": "stream",
     "text": [
      "\tVosk thinks you said:\n",
      "\n",
      "deus vos speech recognition library \n"
     ]
    }
   ],
   "source": [
    "print(\"\\tVosk thinks you said:\\n\")\n",
    "print(text)"
   ]
  },
  {
   "cell_type": "code",
   "execution_count": 11,
   "id": "2509de05",
   "metadata": {},
   "outputs": [
    {
     "name": "stdout",
     "output_type": "stream",
     "text": [
      "\n",
      "Saving text to 'audio/test.txt'...\n",
      "Text successfully saved\n"
     ]
    }
   ],
   "source": [
    "print(f\"\\nSaving text to '{text_filename}'...\")\n",
    "with open(text_filename, \"w\") as text_file:\n",
    "    text_file.write(text)\n",
    "print(f\"Text successfully saved\")"
   ]
  },
  {
   "cell_type": "code",
   "execution_count": null,
   "id": "aed90c04",
   "metadata": {},
   "outputs": [],
   "source": []
  },
  {
   "cell_type": "code",
   "execution_count": null,
   "id": "36bae7a6",
   "metadata": {},
   "outputs": [],
   "source": []
  }
 ],
 "metadata": {
  "kernelspec": {
   "display_name": "Python 3",
   "language": "python",
   "name": "python3"
  },
  "language_info": {
   "codemirror_mode": {
    "name": "ipython",
    "version": 3
   },
   "file_extension": ".py",
   "mimetype": "text/x-python",
   "name": "python",
   "nbconvert_exporter": "python",
   "pygments_lexer": "ipython3",
   "version": "3.8.8"
  }
 },
 "nbformat": 4,
 "nbformat_minor": 5
}
